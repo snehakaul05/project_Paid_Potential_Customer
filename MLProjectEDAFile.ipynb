{
 "cells": [
  {
   "cell_type": "code",
   "execution_count": 1,
   "metadata": {
    "collapsed": true
   },
   "outputs": [],
   "source": [
    "#Loading the Libraries \n",
    "import pandas as pd \n",
    "import numpy as np\n",
    "import matplotlib.pyplot as plt\n",
    "import seaborn as sns\n",
    "import pickle\n",
    "import datetime as dt\n",
    "import sklearn\n",
    "%matplotlib inline \n",
    "import warnings\n",
    "warnings.filterwarnings('ignore')\n",
    "import regex "
   ]
  },
  {
   "cell_type": "markdown",
   "metadata": {},
   "source": [
    "# DATA RETRIEVAL"
   ]
  },
  {
   "cell_type": "code",
   "execution_count": 3,
   "metadata": {
    "collapsed": true
   },
   "outputs": [],
   "source": [
    "customer_data = pd.read_csv(\"usage_data_final.csv\")"
   ]
  },
  {
   "cell_type": "code",
   "execution_count": 4,
   "metadata": {},
   "outputs": [
    {
     "data": {
      "text/html": [
       "<div>\n",
       "<style scoped>\n",
       "    .dataframe tbody tr th:only-of-type {\n",
       "        vertical-align: middle;\n",
       "    }\n",
       "\n",
       "    .dataframe tbody tr th {\n",
       "        vertical-align: top;\n",
       "    }\n",
       "\n",
       "    .dataframe thead th {\n",
       "        text-align: right;\n",
       "    }\n",
       "</style>\n",
       "<table border=\"1\" class=\"dataframe\">\n",
       "  <thead>\n",
       "    <tr style=\"text-align: right;\">\n",
       "      <th></th>\n",
       "      <th>avg_daily_time</th>\n",
       "      <th>onboarded_age</th>\n",
       "      <th>VM_count</th>\n",
       "      <th>avg_url_count</th>\n",
       "      <th>most_hit_topic</th>\n",
       "      <th>City</th>\n",
       "      <th>trial_customer</th>\n",
       "      <th>Country</th>\n",
       "      <th>last_login</th>\n",
       "      <th>potention_buyer</th>\n",
       "    </tr>\n",
       "  </thead>\n",
       "  <tbody>\n",
       "    <tr>\n",
       "      <th>0</th>\n",
       "      <td>68.95</td>\n",
       "      <td>35</td>\n",
       "      <td>61834</td>\n",
       "      <td>256.09</td>\n",
       "      <td>Multi-channeled</td>\n",
       "      <td>Wrightburgh</td>\n",
       "      <td>0</td>\n",
       "      <td>Tunisia</td>\n",
       "      <td>3/27/16 0:53</td>\n",
       "      <td>0</td>\n",
       "    </tr>\n",
       "    <tr>\n",
       "      <th>1</th>\n",
       "      <td>80.23</td>\n",
       "      <td>31</td>\n",
       "      <td>68442</td>\n",
       "      <td>193.77</td>\n",
       "      <td>Data warehouse</td>\n",
       "      <td>West Jodi</td>\n",
       "      <td>1</td>\n",
       "      <td>Nauru</td>\n",
       "      <td>4/4/16 1:39</td>\n",
       "      <td>0</td>\n",
       "    </tr>\n",
       "    <tr>\n",
       "      <th>2</th>\n",
       "      <td>69.47</td>\n",
       "      <td>26</td>\n",
       "      <td>59786</td>\n",
       "      <td>236.50</td>\n",
       "      <td>Customer-focused</td>\n",
       "      <td>Davidton</td>\n",
       "      <td>0</td>\n",
       "      <td>San Marino</td>\n",
       "      <td>3/13/16 20:35</td>\n",
       "      <td>0</td>\n",
       "    </tr>\n",
       "    <tr>\n",
       "      <th>3</th>\n",
       "      <td>74.15</td>\n",
       "      <td>29</td>\n",
       "      <td>54806</td>\n",
       "      <td>245.89</td>\n",
       "      <td>Triple-buffered</td>\n",
       "      <td>West Terrifurt</td>\n",
       "      <td>1</td>\n",
       "      <td>Italy</td>\n",
       "      <td>1/10/16 2:31</td>\n",
       "      <td>0</td>\n",
       "    </tr>\n",
       "    <tr>\n",
       "      <th>4</th>\n",
       "      <td>68.37</td>\n",
       "      <td>35</td>\n",
       "      <td>73890</td>\n",
       "      <td>225.58</td>\n",
       "      <td>Triple-buffered</td>\n",
       "      <td>South Manuel</td>\n",
       "      <td>0</td>\n",
       "      <td>Iceland</td>\n",
       "      <td>6/3/16 3:36</td>\n",
       "      <td>0</td>\n",
       "    </tr>\n",
       "  </tbody>\n",
       "</table>\n",
       "</div>"
      ],
      "text/plain": [
       "   avg_daily_time  onboarded_age  VM_count   avg_url_count    most_hit_topic  \\\n",
       "0           68.95             35      61834         256.09   Multi-channeled   \n",
       "1           80.23             31      68442         193.77    Data warehouse   \n",
       "2           69.47             26      59786         236.50  Customer-focused   \n",
       "3           74.15             29      54806         245.89   Triple-buffered   \n",
       "4           68.37             35      73890         225.58   Triple-buffered   \n",
       "\n",
       "             City  trial_customer     Country     last_login  potention_buyer  \n",
       "0     Wrightburgh               0     Tunisia   3/27/16 0:53                0  \n",
       "1       West Jodi               1       Nauru    4/4/16 1:39                0  \n",
       "2        Davidton               0  San Marino  3/13/16 20:35                0  \n",
       "3  West Terrifurt               1       Italy   1/10/16 2:31                0  \n",
       "4    South Manuel               0     Iceland    6/3/16 3:36                0  "
      ]
     },
     "execution_count": 4,
     "metadata": {},
     "output_type": "execute_result"
    }
   ],
   "source": [
    "customer_data.head()"
   ]
  },
  {
   "cell_type": "markdown",
   "metadata": {},
   "source": [
    "# DATA CLEANING & DROPPING COLUMNS NOT NEEDED"
   ]
  },
  {
   "cell_type": "code",
   "execution_count": 5,
   "metadata": {},
   "outputs": [
    {
     "name": "stdout",
     "output_type": "stream",
     "text": [
      "number of columns :10\n",
      "number of columns :Index(['avg_daily_time', 'onboarded_age', 'VM_count ', 'avg_url_count',\n",
      "       'most_hit_topic', 'City', 'trial_customer', 'Country', 'last_login',\n",
      "       'potention_buyer'],\n",
      "      dtype='object')\n"
     ]
    }
   ],
   "source": [
    "## Data Cleaning and filtering \n",
    "#dropping an Column not needed \n",
    "print('number of columns :{}'.format(len(customer_data.columns)))\n",
    "print ('number of columns :{}'.format(customer_data.columns))\n"
   ]
  },
  {
   "cell_type": "code",
   "execution_count": 6,
   "metadata": {
    "collapsed": true
   },
   "outputs": [],
   "source": [
    "customer_data['id']= customer_data.index\n",
    "customer_data['customer_name'] = customer_data.apply(lambda row: \"company\"+ str(row.id) , axis=1)\n"
   ]
  },
  {
   "cell_type": "code",
   "execution_count": 7,
   "metadata": {},
   "outputs": [
    {
     "data": {
      "text/html": [
       "<div>\n",
       "<style scoped>\n",
       "    .dataframe tbody tr th:only-of-type {\n",
       "        vertical-align: middle;\n",
       "    }\n",
       "\n",
       "    .dataframe tbody tr th {\n",
       "        vertical-align: top;\n",
       "    }\n",
       "\n",
       "    .dataframe thead th {\n",
       "        text-align: right;\n",
       "    }\n",
       "</style>\n",
       "<table border=\"1\" class=\"dataframe\">\n",
       "  <thead>\n",
       "    <tr style=\"text-align: right;\">\n",
       "      <th></th>\n",
       "      <th>avg_daily_time</th>\n",
       "      <th>onboarded_age</th>\n",
       "      <th>VM_count</th>\n",
       "      <th>avg_url_count</th>\n",
       "      <th>most_hit_topic</th>\n",
       "      <th>City</th>\n",
       "      <th>trial_customer</th>\n",
       "      <th>Country</th>\n",
       "      <th>last_login</th>\n",
       "      <th>potention_buyer</th>\n",
       "      <th>id</th>\n",
       "      <th>customer_name</th>\n",
       "    </tr>\n",
       "  </thead>\n",
       "  <tbody>\n",
       "    <tr>\n",
       "      <th>0</th>\n",
       "      <td>68.95</td>\n",
       "      <td>35</td>\n",
       "      <td>61834</td>\n",
       "      <td>256.09</td>\n",
       "      <td>Multi-channeled</td>\n",
       "      <td>Wrightburgh</td>\n",
       "      <td>0</td>\n",
       "      <td>Tunisia</td>\n",
       "      <td>3/27/16 0:53</td>\n",
       "      <td>0</td>\n",
       "      <td>0</td>\n",
       "      <td>company0</td>\n",
       "    </tr>\n",
       "    <tr>\n",
       "      <th>1</th>\n",
       "      <td>80.23</td>\n",
       "      <td>31</td>\n",
       "      <td>68442</td>\n",
       "      <td>193.77</td>\n",
       "      <td>Data warehouse</td>\n",
       "      <td>West Jodi</td>\n",
       "      <td>1</td>\n",
       "      <td>Nauru</td>\n",
       "      <td>4/4/16 1:39</td>\n",
       "      <td>0</td>\n",
       "      <td>1</td>\n",
       "      <td>company1</td>\n",
       "    </tr>\n",
       "    <tr>\n",
       "      <th>2</th>\n",
       "      <td>69.47</td>\n",
       "      <td>26</td>\n",
       "      <td>59786</td>\n",
       "      <td>236.50</td>\n",
       "      <td>Customer-focused</td>\n",
       "      <td>Davidton</td>\n",
       "      <td>0</td>\n",
       "      <td>San Marino</td>\n",
       "      <td>3/13/16 20:35</td>\n",
       "      <td>0</td>\n",
       "      <td>2</td>\n",
       "      <td>company2</td>\n",
       "    </tr>\n",
       "    <tr>\n",
       "      <th>3</th>\n",
       "      <td>74.15</td>\n",
       "      <td>29</td>\n",
       "      <td>54806</td>\n",
       "      <td>245.89</td>\n",
       "      <td>Triple-buffered</td>\n",
       "      <td>West Terrifurt</td>\n",
       "      <td>1</td>\n",
       "      <td>Italy</td>\n",
       "      <td>1/10/16 2:31</td>\n",
       "      <td>0</td>\n",
       "      <td>3</td>\n",
       "      <td>company3</td>\n",
       "    </tr>\n",
       "    <tr>\n",
       "      <th>4</th>\n",
       "      <td>68.37</td>\n",
       "      <td>35</td>\n",
       "      <td>73890</td>\n",
       "      <td>225.58</td>\n",
       "      <td>Triple-buffered</td>\n",
       "      <td>South Manuel</td>\n",
       "      <td>0</td>\n",
       "      <td>Iceland</td>\n",
       "      <td>6/3/16 3:36</td>\n",
       "      <td>0</td>\n",
       "      <td>4</td>\n",
       "      <td>company4</td>\n",
       "    </tr>\n",
       "  </tbody>\n",
       "</table>\n",
       "</div>"
      ],
      "text/plain": [
       "   avg_daily_time  onboarded_age  VM_count   avg_url_count    most_hit_topic  \\\n",
       "0           68.95             35      61834         256.09   Multi-channeled   \n",
       "1           80.23             31      68442         193.77    Data warehouse   \n",
       "2           69.47             26      59786         236.50  Customer-focused   \n",
       "3           74.15             29      54806         245.89   Triple-buffered   \n",
       "4           68.37             35      73890         225.58   Triple-buffered   \n",
       "\n",
       "             City  trial_customer     Country     last_login  potention_buyer  \\\n",
       "0     Wrightburgh               0     Tunisia   3/27/16 0:53                0   \n",
       "1       West Jodi               1       Nauru    4/4/16 1:39                0   \n",
       "2        Davidton               0  San Marino  3/13/16 20:35                0   \n",
       "3  West Terrifurt               1       Italy   1/10/16 2:31                0   \n",
       "4    South Manuel               0     Iceland    6/3/16 3:36                0   \n",
       "\n",
       "   id customer_name  \n",
       "0   0      company0  \n",
       "1   1      company1  \n",
       "2   2      company2  \n",
       "3   3      company3  \n",
       "4   4      company4  "
      ]
     },
     "execution_count": 7,
     "metadata": {},
     "output_type": "execute_result"
    }
   ],
   "source": [
    "\n",
    "customer_data.head()"
   ]
  },
  {
   "cell_type": "code",
   "execution_count": 9,
   "metadata": {},
   "outputs": [
    {
     "data": {
      "text/html": [
       "<div>\n",
       "<style scoped>\n",
       "    .dataframe tbody tr th:only-of-type {\n",
       "        vertical-align: middle;\n",
       "    }\n",
       "\n",
       "    .dataframe tbody tr th {\n",
       "        vertical-align: top;\n",
       "    }\n",
       "\n",
       "    .dataframe thead th {\n",
       "        text-align: right;\n",
       "    }\n",
       "</style>\n",
       "<table border=\"1\" class=\"dataframe\">\n",
       "  <thead>\n",
       "    <tr style=\"text-align: right;\">\n",
       "      <th></th>\n",
       "      <th>avg_daily_time</th>\n",
       "      <th>onboarded_age</th>\n",
       "      <th>VM_count</th>\n",
       "      <th>avg_url_count</th>\n",
       "      <th>most_hit_topic</th>\n",
       "      <th>City</th>\n",
       "      <th>trial_customer</th>\n",
       "      <th>Country</th>\n",
       "      <th>last_login</th>\n",
       "      <th>potention_buyer</th>\n",
       "      <th>id</th>\n",
       "      <th>customer_name</th>\n",
       "      <th>updated_url</th>\n",
       "    </tr>\n",
       "  </thead>\n",
       "  <tbody>\n",
       "    <tr>\n",
       "      <th>0</th>\n",
       "      <td>68.95</td>\n",
       "      <td>35</td>\n",
       "      <td>61834</td>\n",
       "      <td>256.09</td>\n",
       "      <td>Multi-channeled</td>\n",
       "      <td>Wrightburgh</td>\n",
       "      <td>0</td>\n",
       "      <td>Tunisia</td>\n",
       "      <td>3/27/16 0:53</td>\n",
       "      <td>0</td>\n",
       "      <td>0</td>\n",
       "      <td>company0</td>\n",
       "      <td>Multi-channeled</td>\n",
       "    </tr>\n",
       "    <tr>\n",
       "      <th>1</th>\n",
       "      <td>80.23</td>\n",
       "      <td>31</td>\n",
       "      <td>68442</td>\n",
       "      <td>193.77</td>\n",
       "      <td>Data warehouse</td>\n",
       "      <td>West Jodi</td>\n",
       "      <td>1</td>\n",
       "      <td>Nauru</td>\n",
       "      <td>4/4/16 1:39</td>\n",
       "      <td>0</td>\n",
       "      <td>1</td>\n",
       "      <td>company1</td>\n",
       "      <td>Data warehouse</td>\n",
       "    </tr>\n",
       "    <tr>\n",
       "      <th>2</th>\n",
       "      <td>69.47</td>\n",
       "      <td>26</td>\n",
       "      <td>59786</td>\n",
       "      <td>236.50</td>\n",
       "      <td>Customer-focused</td>\n",
       "      <td>Davidton</td>\n",
       "      <td>0</td>\n",
       "      <td>San Marino</td>\n",
       "      <td>3/13/16 20:35</td>\n",
       "      <td>0</td>\n",
       "      <td>2</td>\n",
       "      <td>company2</td>\n",
       "      <td>Customer-focused</td>\n",
       "    </tr>\n",
       "    <tr>\n",
       "      <th>3</th>\n",
       "      <td>74.15</td>\n",
       "      <td>29</td>\n",
       "      <td>54806</td>\n",
       "      <td>245.89</td>\n",
       "      <td>Triple-buffered</td>\n",
       "      <td>West Terrifurt</td>\n",
       "      <td>1</td>\n",
       "      <td>Italy</td>\n",
       "      <td>1/10/16 2:31</td>\n",
       "      <td>0</td>\n",
       "      <td>3</td>\n",
       "      <td>company3</td>\n",
       "      <td>Triple-buffered</td>\n",
       "    </tr>\n",
       "    <tr>\n",
       "      <th>4</th>\n",
       "      <td>68.37</td>\n",
       "      <td>35</td>\n",
       "      <td>73890</td>\n",
       "      <td>225.58</td>\n",
       "      <td>Triple-buffered</td>\n",
       "      <td>South Manuel</td>\n",
       "      <td>0</td>\n",
       "      <td>Iceland</td>\n",
       "      <td>6/3/16 3:36</td>\n",
       "      <td>0</td>\n",
       "      <td>4</td>\n",
       "      <td>company4</td>\n",
       "      <td>Triple-buffered</td>\n",
       "    </tr>\n",
       "  </tbody>\n",
       "</table>\n",
       "</div>"
      ],
      "text/plain": [
       "   avg_daily_time  onboarded_age  VM_count   avg_url_count    most_hit_topic  \\\n",
       "0           68.95             35      61834         256.09   Multi-channeled   \n",
       "1           80.23             31      68442         193.77    Data warehouse   \n",
       "2           69.47             26      59786         236.50  Customer-focused   \n",
       "3           74.15             29      54806         245.89   Triple-buffered   \n",
       "4           68.37             35      73890         225.58   Triple-buffered   \n",
       "\n",
       "             City  trial_customer     Country     last_login  potention_buyer  \\\n",
       "0     Wrightburgh               0     Tunisia   3/27/16 0:53                0   \n",
       "1       West Jodi               1       Nauru    4/4/16 1:39                0   \n",
       "2        Davidton               0  San Marino  3/13/16 20:35                0   \n",
       "3  West Terrifurt               1       Italy   1/10/16 2:31                0   \n",
       "4    South Manuel               0     Iceland    6/3/16 3:36                0   \n",
       "\n",
       "   id customer_name       updated_url  \n",
       "0   0      company0   Multi-channeled  \n",
       "1   1      company1    Data warehouse  \n",
       "2   2      company2  Customer-focused  \n",
       "3   3      company3   Triple-buffered  \n",
       "4   4      company4   Triple-buffered  "
      ]
     },
     "execution_count": 9,
     "metadata": {},
     "output_type": "execute_result"
    }
   ],
   "source": [
    "#making use of regex library\n",
    "customer_data['updated_url'] = customer_data['most_hit_topic'].replace('/#/#/','/#/',regex=True)\n",
    "customer_data.head()"
   ]
  },
  {
   "cell_type": "code",
   "execution_count": 52,
   "metadata": {},
   "outputs": [
    {
     "name": "stdout",
     "output_type": "stream",
     "text": [
      "<class 'pandas.core.frame.DataFrame'>\n",
      "RangeIndex: 1000 entries, 0 to 999\n",
      "Data columns (total 12 columns):\n",
      "avg_daily_time     1000 non-null float64\n",
      "onboarded_age      1000 non-null int64\n",
      "VM_count           1000 non-null int64\n",
      "avg_url_count      1000 non-null float64\n",
      "most_hit_topic     1000 non-null object\n",
      "City               1000 non-null object\n",
      "trial_customer     1000 non-null int64\n",
      "Country            1000 non-null object\n",
      "last_login         1000 non-null object\n",
      "potention_buyer    1000 non-null int64\n",
      "id                 1000 non-null int64\n",
      "customer_name      1000 non-null object\n",
      "dtypes: float64(2), int64(5), object(5)\n",
      "memory usage: 93.8+ KB\n"
     ]
    }
   ],
   "source": [
    "customer_data.info()"
   ]
  },
  {
   "cell_type": "code",
   "execution_count": 53,
   "metadata": {},
   "outputs": [
    {
     "data": {
      "text/html": [
       "<div>\n",
       "<style scoped>\n",
       "    .dataframe tbody tr th:only-of-type {\n",
       "        vertical-align: middle;\n",
       "    }\n",
       "\n",
       "    .dataframe tbody tr th {\n",
       "        vertical-align: top;\n",
       "    }\n",
       "\n",
       "    .dataframe thead th {\n",
       "        text-align: right;\n",
       "    }\n",
       "</style>\n",
       "<table border=\"1\" class=\"dataframe\">\n",
       "  <thead>\n",
       "    <tr style=\"text-align: right;\">\n",
       "      <th></th>\n",
       "      <th>avg_daily_time</th>\n",
       "      <th>onboarded_age</th>\n",
       "      <th>VM_count</th>\n",
       "      <th>avg_url_count</th>\n",
       "      <th>trial_customer</th>\n",
       "      <th>potention_buyer</th>\n",
       "      <th>id</th>\n",
       "    </tr>\n",
       "  </thead>\n",
       "  <tbody>\n",
       "    <tr>\n",
       "      <th>count</th>\n",
       "      <td>1000.000000</td>\n",
       "      <td>1000.000000</td>\n",
       "      <td>1000.000000</td>\n",
       "      <td>1000.000000</td>\n",
       "      <td>1000.000000</td>\n",
       "      <td>1000.00000</td>\n",
       "      <td>1000.000000</td>\n",
       "    </tr>\n",
       "    <tr>\n",
       "      <th>mean</th>\n",
       "      <td>65.000200</td>\n",
       "      <td>36.009000</td>\n",
       "      <td>55000.011000</td>\n",
       "      <td>180.000100</td>\n",
       "      <td>0.481000</td>\n",
       "      <td>0.50000</td>\n",
       "      <td>499.500000</td>\n",
       "    </tr>\n",
       "    <tr>\n",
       "      <th>std</th>\n",
       "      <td>15.853615</td>\n",
       "      <td>8.785562</td>\n",
       "      <td>13414.639459</td>\n",
       "      <td>43.902339</td>\n",
       "      <td>0.499889</td>\n",
       "      <td>0.50025</td>\n",
       "      <td>288.819436</td>\n",
       "    </tr>\n",
       "    <tr>\n",
       "      <th>min</th>\n",
       "      <td>32.600000</td>\n",
       "      <td>19.000000</td>\n",
       "      <td>13997.000000</td>\n",
       "      <td>104.780000</td>\n",
       "      <td>0.000000</td>\n",
       "      <td>0.00000</td>\n",
       "      <td>0.000000</td>\n",
       "    </tr>\n",
       "    <tr>\n",
       "      <th>25%</th>\n",
       "      <td>51.360000</td>\n",
       "      <td>29.000000</td>\n",
       "      <td>47031.750000</td>\n",
       "      <td>138.830000</td>\n",
       "      <td>0.000000</td>\n",
       "      <td>0.00000</td>\n",
       "      <td>249.750000</td>\n",
       "    </tr>\n",
       "    <tr>\n",
       "      <th>50%</th>\n",
       "      <td>68.215000</td>\n",
       "      <td>35.000000</td>\n",
       "      <td>57012.500000</td>\n",
       "      <td>183.130000</td>\n",
       "      <td>0.000000</td>\n",
       "      <td>0.50000</td>\n",
       "      <td>499.500000</td>\n",
       "    </tr>\n",
       "    <tr>\n",
       "      <th>75%</th>\n",
       "      <td>78.547500</td>\n",
       "      <td>42.000000</td>\n",
       "      <td>65470.750000</td>\n",
       "      <td>218.792500</td>\n",
       "      <td>1.000000</td>\n",
       "      <td>1.00000</td>\n",
       "      <td>749.250000</td>\n",
       "    </tr>\n",
       "    <tr>\n",
       "      <th>max</th>\n",
       "      <td>91.430000</td>\n",
       "      <td>61.000000</td>\n",
       "      <td>79485.000000</td>\n",
       "      <td>269.960000</td>\n",
       "      <td>1.000000</td>\n",
       "      <td>1.00000</td>\n",
       "      <td>999.000000</td>\n",
       "    </tr>\n",
       "  </tbody>\n",
       "</table>\n",
       "</div>"
      ],
      "text/plain": [
       "       avg_daily_time  onboarded_age     VM_count   avg_url_count  \\\n",
       "count     1000.000000    1000.000000   1000.000000    1000.000000   \n",
       "mean        65.000200      36.009000  55000.011000     180.000100   \n",
       "std         15.853615       8.785562  13414.639459      43.902339   \n",
       "min         32.600000      19.000000  13997.000000     104.780000   \n",
       "25%         51.360000      29.000000  47031.750000     138.830000   \n",
       "50%         68.215000      35.000000  57012.500000     183.130000   \n",
       "75%         78.547500      42.000000  65470.750000     218.792500   \n",
       "max         91.430000      61.000000  79485.000000     269.960000   \n",
       "\n",
       "       trial_customer  potention_buyer           id  \n",
       "count     1000.000000       1000.00000  1000.000000  \n",
       "mean         0.481000          0.50000   499.500000  \n",
       "std          0.499889          0.50025   288.819436  \n",
       "min          0.000000          0.00000     0.000000  \n",
       "25%          0.000000          0.00000   249.750000  \n",
       "50%          0.000000          0.50000   499.500000  \n",
       "75%          1.000000          1.00000   749.250000  \n",
       "max          1.000000          1.00000   999.000000  "
      ]
     },
     "execution_count": 53,
     "metadata": {},
     "output_type": "execute_result"
    }
   ],
   "source": [
    "customer_data.describe()"
   ]
  },
  {
   "cell_type": "code",
   "execution_count": 54,
   "metadata": {},
   "outputs": [
    {
     "data": {
      "text/html": [
       "<div>\n",
       "<style scoped>\n",
       "    .dataframe tbody tr th:only-of-type {\n",
       "        vertical-align: middle;\n",
       "    }\n",
       "\n",
       "    .dataframe tbody tr th {\n",
       "        vertical-align: top;\n",
       "    }\n",
       "\n",
       "    .dataframe thead th {\n",
       "        text-align: right;\n",
       "    }\n",
       "</style>\n",
       "<table border=\"1\" class=\"dataframe\">\n",
       "  <thead>\n",
       "    <tr style=\"text-align: right;\">\n",
       "      <th></th>\n",
       "      <th>avg_daily_time</th>\n",
       "      <th>onboarded_age</th>\n",
       "      <th>VM_count</th>\n",
       "      <th>avg_url_count</th>\n",
       "      <th>most_hit_topic</th>\n",
       "      <th>City</th>\n",
       "      <th>trial_customer</th>\n",
       "      <th>Country</th>\n",
       "      <th>last_login</th>\n",
       "      <th>potention_buyer</th>\n",
       "      <th>id</th>\n",
       "      <th>customer_name</th>\n",
       "    </tr>\n",
       "  </thead>\n",
       "  <tbody>\n",
       "    <tr>\n",
       "      <th>0</th>\n",
       "      <td>68.95</td>\n",
       "      <td>35</td>\n",
       "      <td>61834</td>\n",
       "      <td>256.09</td>\n",
       "      <td>Multi-channeled</td>\n",
       "      <td>Wrightburgh</td>\n",
       "      <td>0</td>\n",
       "      <td>Tunisia</td>\n",
       "      <td>3/27/16 0:53</td>\n",
       "      <td>0</td>\n",
       "      <td>0</td>\n",
       "      <td>company0</td>\n",
       "    </tr>\n",
       "    <tr>\n",
       "      <th>1</th>\n",
       "      <td>80.23</td>\n",
       "      <td>31</td>\n",
       "      <td>68442</td>\n",
       "      <td>193.77</td>\n",
       "      <td>Data warehouse</td>\n",
       "      <td>West Jodi</td>\n",
       "      <td>1</td>\n",
       "      <td>Nauru</td>\n",
       "      <td>4/4/16 1:39</td>\n",
       "      <td>0</td>\n",
       "      <td>1</td>\n",
       "      <td>company1</td>\n",
       "    </tr>\n",
       "    <tr>\n",
       "      <th>2</th>\n",
       "      <td>69.47</td>\n",
       "      <td>26</td>\n",
       "      <td>59786</td>\n",
       "      <td>236.50</td>\n",
       "      <td>Customer-focused</td>\n",
       "      <td>Davidton</td>\n",
       "      <td>0</td>\n",
       "      <td>San Marino</td>\n",
       "      <td>3/13/16 20:35</td>\n",
       "      <td>0</td>\n",
       "      <td>2</td>\n",
       "      <td>company2</td>\n",
       "    </tr>\n",
       "    <tr>\n",
       "      <th>3</th>\n",
       "      <td>74.15</td>\n",
       "      <td>29</td>\n",
       "      <td>54806</td>\n",
       "      <td>245.89</td>\n",
       "      <td>Triple-buffered</td>\n",
       "      <td>West Terrifurt</td>\n",
       "      <td>1</td>\n",
       "      <td>Italy</td>\n",
       "      <td>1/10/16 2:31</td>\n",
       "      <td>0</td>\n",
       "      <td>3</td>\n",
       "      <td>company3</td>\n",
       "    </tr>\n",
       "    <tr>\n",
       "      <th>4</th>\n",
       "      <td>68.37</td>\n",
       "      <td>35</td>\n",
       "      <td>73890</td>\n",
       "      <td>225.58</td>\n",
       "      <td>Triple-buffered</td>\n",
       "      <td>South Manuel</td>\n",
       "      <td>0</td>\n",
       "      <td>Iceland</td>\n",
       "      <td>6/3/16 3:36</td>\n",
       "      <td>0</td>\n",
       "      <td>4</td>\n",
       "      <td>company4</td>\n",
       "    </tr>\n",
       "  </tbody>\n",
       "</table>\n",
       "</div>"
      ],
      "text/plain": [
       "   avg_daily_time  onboarded_age  VM_count   avg_url_count    most_hit_topic  \\\n",
       "0           68.95             35      61834         256.09   Multi-channeled   \n",
       "1           80.23             31      68442         193.77    Data warehouse   \n",
       "2           69.47             26      59786         236.50  Customer-focused   \n",
       "3           74.15             29      54806         245.89   Triple-buffered   \n",
       "4           68.37             35      73890         225.58   Triple-buffered   \n",
       "\n",
       "             City  trial_customer     Country     last_login  potention_buyer  \\\n",
       "0     Wrightburgh               0     Tunisia   3/27/16 0:53                0   \n",
       "1       West Jodi               1       Nauru    4/4/16 1:39                0   \n",
       "2        Davidton               0  San Marino  3/13/16 20:35                0   \n",
       "3  West Terrifurt               1       Italy   1/10/16 2:31                0   \n",
       "4    South Manuel               0     Iceland    6/3/16 3:36                0   \n",
       "\n",
       "   id customer_name  \n",
       "0   0      company0  \n",
       "1   1      company1  \n",
       "2   2      company2  \n",
       "3   3      company3  \n",
       "4   4      company4  "
      ]
     },
     "execution_count": 54,
     "metadata": {},
     "output_type": "execute_result"
    }
   ],
   "source": [
    "customer_data.head()"
   ]
  },
  {
   "cell_type": "code",
   "execution_count": 55,
   "metadata": {},
   "outputs": [
    {
     "data": {
      "text/plain": [
       "Index(['avg_daily_time', 'onboarded_age', 'VM_count ', 'avg_url_count',\n",
       "       'most_hit_topic', 'City', 'trial_customer', 'Country', 'last_login',\n",
       "       'potention_buyer', 'id', 'customer_name'],\n",
       "      dtype='object')"
      ]
     },
     "execution_count": 55,
     "metadata": {},
     "output_type": "execute_result"
    }
   ],
   "source": [
    "customer_data.columns"
   ]
  },
  {
   "cell_type": "code",
   "execution_count": 56,
   "metadata": {},
   "outputs": [
    {
     "data": {
      "text/html": [
       "<div>\n",
       "<style scoped>\n",
       "    .dataframe tbody tr th:only-of-type {\n",
       "        vertical-align: middle;\n",
       "    }\n",
       "\n",
       "    .dataframe tbody tr th {\n",
       "        vertical-align: top;\n",
       "    }\n",
       "\n",
       "    .dataframe thead th {\n",
       "        text-align: right;\n",
       "    }\n",
       "</style>\n",
       "<table border=\"1\" class=\"dataframe\">\n",
       "  <thead>\n",
       "    <tr style=\"text-align: right;\">\n",
       "      <th></th>\n",
       "      <th>avg_daily_time</th>\n",
       "      <th>onboarded_age</th>\n",
       "      <th>vm_count</th>\n",
       "      <th>avg_url_count</th>\n",
       "      <th>most_hit_topic</th>\n",
       "      <th>City</th>\n",
       "      <th>trial_customer</th>\n",
       "      <th>Country</th>\n",
       "      <th>last_login</th>\n",
       "      <th>potential_buyer</th>\n",
       "      <th>id</th>\n",
       "      <th>customer_name</th>\n",
       "    </tr>\n",
       "  </thead>\n",
       "  <tbody>\n",
       "    <tr>\n",
       "      <th>0</th>\n",
       "      <td>68.95</td>\n",
       "      <td>35</td>\n",
       "      <td>61834</td>\n",
       "      <td>256.09</td>\n",
       "      <td>Multi-channeled</td>\n",
       "      <td>Wrightburgh</td>\n",
       "      <td>0</td>\n",
       "      <td>Tunisia</td>\n",
       "      <td>3/27/16 0:53</td>\n",
       "      <td>0</td>\n",
       "      <td>0</td>\n",
       "      <td>company0</td>\n",
       "    </tr>\n",
       "    <tr>\n",
       "      <th>1</th>\n",
       "      <td>80.23</td>\n",
       "      <td>31</td>\n",
       "      <td>68442</td>\n",
       "      <td>193.77</td>\n",
       "      <td>Data warehouse</td>\n",
       "      <td>West Jodi</td>\n",
       "      <td>1</td>\n",
       "      <td>Nauru</td>\n",
       "      <td>4/4/16 1:39</td>\n",
       "      <td>0</td>\n",
       "      <td>1</td>\n",
       "      <td>company1</td>\n",
       "    </tr>\n",
       "    <tr>\n",
       "      <th>2</th>\n",
       "      <td>69.47</td>\n",
       "      <td>26</td>\n",
       "      <td>59786</td>\n",
       "      <td>236.50</td>\n",
       "      <td>Customer-focused</td>\n",
       "      <td>Davidton</td>\n",
       "      <td>0</td>\n",
       "      <td>San Marino</td>\n",
       "      <td>3/13/16 20:35</td>\n",
       "      <td>0</td>\n",
       "      <td>2</td>\n",
       "      <td>company2</td>\n",
       "    </tr>\n",
       "    <tr>\n",
       "      <th>3</th>\n",
       "      <td>74.15</td>\n",
       "      <td>29</td>\n",
       "      <td>54806</td>\n",
       "      <td>245.89</td>\n",
       "      <td>Triple-buffered</td>\n",
       "      <td>West Terrifurt</td>\n",
       "      <td>1</td>\n",
       "      <td>Italy</td>\n",
       "      <td>1/10/16 2:31</td>\n",
       "      <td>0</td>\n",
       "      <td>3</td>\n",
       "      <td>company3</td>\n",
       "    </tr>\n",
       "    <tr>\n",
       "      <th>4</th>\n",
       "      <td>68.37</td>\n",
       "      <td>35</td>\n",
       "      <td>73890</td>\n",
       "      <td>225.58</td>\n",
       "      <td>Triple-buffered</td>\n",
       "      <td>South Manuel</td>\n",
       "      <td>0</td>\n",
       "      <td>Iceland</td>\n",
       "      <td>6/3/16 3:36</td>\n",
       "      <td>0</td>\n",
       "      <td>4</td>\n",
       "      <td>company4</td>\n",
       "    </tr>\n",
       "  </tbody>\n",
       "</table>\n",
       "</div>"
      ],
      "text/plain": [
       "   avg_daily_time  onboarded_age  vm_count  avg_url_count    most_hit_topic  \\\n",
       "0           68.95             35     61834         256.09   Multi-channeled   \n",
       "1           80.23             31     68442         193.77    Data warehouse   \n",
       "2           69.47             26     59786         236.50  Customer-focused   \n",
       "3           74.15             29     54806         245.89   Triple-buffered   \n",
       "4           68.37             35     73890         225.58   Triple-buffered   \n",
       "\n",
       "             City  trial_customer     Country     last_login  potential_buyer  \\\n",
       "0     Wrightburgh               0     Tunisia   3/27/16 0:53                0   \n",
       "1       West Jodi               1       Nauru    4/4/16 1:39                0   \n",
       "2        Davidton               0  San Marino  3/13/16 20:35                0   \n",
       "3  West Terrifurt               1       Italy   1/10/16 2:31                0   \n",
       "4    South Manuel               0     Iceland    6/3/16 3:36                0   \n",
       "\n",
       "   id customer_name  \n",
       "0   0      company0  \n",
       "1   1      company1  \n",
       "2   2      company2  \n",
       "3   3      company3  \n",
       "4   4      company4  "
      ]
     },
     "execution_count": 56,
     "metadata": {},
     "output_type": "execute_result"
    }
   ],
   "source": [
    "# Renamed some columns for spell check\n",
    "customer_data = customer_data.rename(index=str, columns={\"VM_count \": \"vm_count\", \"potention_buyer\": \"potential_buyer\"})\n",
    "customer_data.head()"
   ]
  },
  {
   "cell_type": "code",
   "execution_count": 57,
   "metadata": {
    "collapsed": true
   },
   "outputs": [],
   "source": [
    "#Converting Float to Int dtypes\n",
    "customer_data[['avg_daily_time','avg_url_count']] = customer_data[['avg_daily_time','avg_url_count']].astype(int,copy = True)\n"
   ]
  },
  {
   "cell_type": "code",
   "execution_count": 58,
   "metadata": {},
   "outputs": [
    {
     "data": {
      "text/html": [
       "<div>\n",
       "<style scoped>\n",
       "    .dataframe tbody tr th:only-of-type {\n",
       "        vertical-align: middle;\n",
       "    }\n",
       "\n",
       "    .dataframe tbody tr th {\n",
       "        vertical-align: top;\n",
       "    }\n",
       "\n",
       "    .dataframe thead th {\n",
       "        text-align: right;\n",
       "    }\n",
       "</style>\n",
       "<table border=\"1\" class=\"dataframe\">\n",
       "  <thead>\n",
       "    <tr style=\"text-align: right;\">\n",
       "      <th></th>\n",
       "      <th>id</th>\n",
       "      <th>customer_name</th>\n",
       "      <th>City</th>\n",
       "      <th>Country</th>\n",
       "      <th>last_login</th>\n",
       "      <th>onboarded_age</th>\n",
       "      <th>vm_count</th>\n",
       "      <th>avg_daily_time</th>\n",
       "      <th>avg_url_count</th>\n",
       "      <th>most_hit_topic</th>\n",
       "      <th>trial_customer</th>\n",
       "      <th>potential_buyer</th>\n",
       "    </tr>\n",
       "  </thead>\n",
       "  <tbody>\n",
       "    <tr>\n",
       "      <th>0</th>\n",
       "      <td>0</td>\n",
       "      <td>company0</td>\n",
       "      <td>Wrightburgh</td>\n",
       "      <td>Tunisia</td>\n",
       "      <td>3/27/16 0:53</td>\n",
       "      <td>35</td>\n",
       "      <td>61834</td>\n",
       "      <td>68</td>\n",
       "      <td>256</td>\n",
       "      <td>Multi-channeled</td>\n",
       "      <td>0</td>\n",
       "      <td>0</td>\n",
       "    </tr>\n",
       "    <tr>\n",
       "      <th>1</th>\n",
       "      <td>1</td>\n",
       "      <td>company1</td>\n",
       "      <td>West Jodi</td>\n",
       "      <td>Nauru</td>\n",
       "      <td>4/4/16 1:39</td>\n",
       "      <td>31</td>\n",
       "      <td>68442</td>\n",
       "      <td>80</td>\n",
       "      <td>193</td>\n",
       "      <td>Data warehouse</td>\n",
       "      <td>1</td>\n",
       "      <td>0</td>\n",
       "    </tr>\n",
       "    <tr>\n",
       "      <th>2</th>\n",
       "      <td>2</td>\n",
       "      <td>company2</td>\n",
       "      <td>Davidton</td>\n",
       "      <td>San Marino</td>\n",
       "      <td>3/13/16 20:35</td>\n",
       "      <td>26</td>\n",
       "      <td>59786</td>\n",
       "      <td>69</td>\n",
       "      <td>236</td>\n",
       "      <td>Customer-focused</td>\n",
       "      <td>0</td>\n",
       "      <td>0</td>\n",
       "    </tr>\n",
       "    <tr>\n",
       "      <th>3</th>\n",
       "      <td>3</td>\n",
       "      <td>company3</td>\n",
       "      <td>West Terrifurt</td>\n",
       "      <td>Italy</td>\n",
       "      <td>1/10/16 2:31</td>\n",
       "      <td>29</td>\n",
       "      <td>54806</td>\n",
       "      <td>74</td>\n",
       "      <td>245</td>\n",
       "      <td>Triple-buffered</td>\n",
       "      <td>1</td>\n",
       "      <td>0</td>\n",
       "    </tr>\n",
       "    <tr>\n",
       "      <th>4</th>\n",
       "      <td>4</td>\n",
       "      <td>company4</td>\n",
       "      <td>South Manuel</td>\n",
       "      <td>Iceland</td>\n",
       "      <td>6/3/16 3:36</td>\n",
       "      <td>35</td>\n",
       "      <td>73890</td>\n",
       "      <td>68</td>\n",
       "      <td>225</td>\n",
       "      <td>Triple-buffered</td>\n",
       "      <td>0</td>\n",
       "      <td>0</td>\n",
       "    </tr>\n",
       "  </tbody>\n",
       "</table>\n",
       "</div>"
      ],
      "text/plain": [
       "   id customer_name            City     Country     last_login  onboarded_age  \\\n",
       "0   0      company0     Wrightburgh     Tunisia   3/27/16 0:53             35   \n",
       "1   1      company1       West Jodi       Nauru    4/4/16 1:39             31   \n",
       "2   2      company2        Davidton  San Marino  3/13/16 20:35             26   \n",
       "3   3      company3  West Terrifurt       Italy   1/10/16 2:31             29   \n",
       "4   4      company4    South Manuel     Iceland    6/3/16 3:36             35   \n",
       "\n",
       "   vm_count  avg_daily_time  avg_url_count    most_hit_topic  trial_customer  \\\n",
       "0     61834              68            256   Multi-channeled               0   \n",
       "1     68442              80            193    Data warehouse               1   \n",
       "2     59786              69            236  Customer-focused               0   \n",
       "3     54806              74            245   Triple-buffered               1   \n",
       "4     73890              68            225   Triple-buffered               0   \n",
       "\n",
       "   potential_buyer  \n",
       "0                0  \n",
       "1                0  \n",
       "2                0  \n",
       "3                0  \n",
       "4                0  "
      ]
     },
     "execution_count": 58,
     "metadata": {},
     "output_type": "execute_result"
    }
   ],
   "source": [
    "#Rearranging columns by sequence\n",
    "customer_data = customer_data[['id','customer_name','City','Country','last_login','onboarded_age','vm_count','avg_daily_time','avg_url_count','most_hit_topic','trial_customer','potential_buyer']]\n",
    "customer_data.head()"
   ]
  },
  {
   "cell_type": "code",
   "execution_count": 59,
   "metadata": {},
   "outputs": [
    {
     "data": {
      "text/plain": [
       "(array([ 0., 10., 20., 30., 40., 50., 60., 70.]),\n",
       " <a list of 8 Text yticklabel objects>)"
      ]
     },
     "execution_count": 59,
     "metadata": {},
     "output_type": "execute_result"
    },
    {
     "data": {
      "image/png": "[encoded data removed]",
      "text/plain": [
       "<Figure size 864x720 with 1 Axes>"
      ]
     },
     "metadata": {},
     "output_type": "display_data"
    }
   ],
   "source": [
    "#Now lets explore the age groups we have  \n",
    "plot = customer_data[\"onboarded_age\"].plot.hist(bins=50,figsize=(12,10))\n",
    "plot.set_xlabel('Onboarded Age',fontsize = 20, fontweight='bold')\n",
    "plot.set_ylabel('Frequency',fontsize = 20, fontweight='bold')\n",
    "plt.xticks(size =20)\n",
    "plt.yticks(size =20)"
   ]
  },
  {
   "cell_type": "code",
   "execution_count": 60,
   "metadata": {},
   "outputs": [
    {
     "data": {
      "image/png": "[encoded data removed]",
      "text/plain": [
       "<Figure size 648x648 with 3 Axes>"
      ]
     },
     "metadata": {},
     "output_type": "display_data"
    }
   ],
   "source": [
    "a = sns.jointplot(x = 'onboarded_age', y  ='avg_daily_time', data = customer_data,space = 0.5,kind='kde' ,color ='coral',height = 9)\n",
    "a.set_axis_labels('Onboarded Age ', 'Daily Time Spent', fontsize=20, fontweight='bold')\n",
    "sns.set(font_scale = 2)"
   ]
  },
  {
   "cell_type": "code",
   "execution_count": 61,
   "metadata": {},
   "outputs": [
    {
     "name": "stderr",
     "output_type": "stream",
     "text": [
      "/Users/amangal/anaconda3/envs/python36/lib/python3.6/site-packages/scipy/stats/stats.py:1713: FutureWarning: Using a non-tuple sequence for multidimensional indexing is deprecated; use `arr[tuple(seq)]` instead of `arr[seq]`. In the future this will be interpreted as an array index, `arr[np.array(seq)]`, which will result either in an error or a different result.\n",
      "  return np.add.reduce(sorted[indexer] * weights, axis=axis) / sumval\n"
     ]
    },
    {
     "data": {
      "image/png": "[encoded data removed]",
      "text/plain": [
       "<Figure size 648x648 with 3 Axes>"
      ]
     },
     "metadata": {},
     "output_type": "display_data"
    }
   ],
   "source": [
    "b = sns.jointplot(x ='avg_daily_time',y='vm_count',height =9 ,data = customer_data,kind ='hex', color = 'green')\n",
    "b.set_axis_labels('Daily Time Spent ', 'VM Count', fontsize=20, fontweight='bold')\n",
    "sns.set(font_scale = 2)\n"
   ]
  },
  {
   "cell_type": "code",
   "execution_count": 62,
   "metadata": {},
   "outputs": [
    {
     "name": "stderr",
     "output_type": "stream",
     "text": [
      "/Users/amangal/anaconda3/envs/python36/lib/python3.6/site-packages/scipy/stats/stats.py:1713: FutureWarning: Using a non-tuple sequence for multidimensional indexing is deprecated; use `arr[tuple(seq)]` instead of `arr[seq]`. In the future this will be interpreted as an array index, `arr[np.array(seq)]`, which will result either in an error or a different result.\n",
      "  return np.add.reduce(sorted[indexer] * weights, axis=axis) / sumval\n"
     ]
    },
    {
     "data": {
      "image/png": "[encoded data removed]",
      "text/plain": [
       "<Figure size 648x648 with 3 Axes>"
      ]
     },
     "metadata": {},
     "output_type": "display_data"
    }
   ],
   "source": [
    "#Finding corerelations in features  using Seaborn jointplots \n",
    "c = sns.jointplot(x ='avg_daily_time',y='avg_url_count',height =9 ,data = customer_data,kind='scatter')\n",
    "c.set_axis_labels('Daily Time Spent ', \"URL's Hit Count\", fontsize=20, fontweight='bold')\n",
    "sns.set(font_scale = 2)\n"
   ]
  },
  {
   "cell_type": "code",
   "execution_count": 63,
   "metadata": {},
   "outputs": [
    {
     "data": {
      "text/html": [
       "<div>\n",
       "<style scoped>\n",
       "    .dataframe tbody tr th:only-of-type {\n",
       "        vertical-align: middle;\n",
       "    }\n",
       "\n",
       "    .dataframe tbody tr th {\n",
       "        vertical-align: top;\n",
       "    }\n",
       "\n",
       "    .dataframe thead th {\n",
       "        text-align: right;\n",
       "    }\n",
       "</style>\n",
       "<table border=\"1\" class=\"dataframe\">\n",
       "  <thead>\n",
       "    <tr style=\"text-align: right;\">\n",
       "      <th></th>\n",
       "      <th>vm_count</th>\n",
       "      <th>avg_daily_time</th>\n",
       "      <th>avg_url_count</th>\n",
       "      <th>onboarded_age</th>\n",
       "      <th>trial_customer</th>\n",
       "      <th>most_hit_topic</th>\n",
       "    </tr>\n",
       "  </thead>\n",
       "  <tbody>\n",
       "    <tr>\n",
       "      <th>0</th>\n",
       "      <td>61834</td>\n",
       "      <td>68</td>\n",
       "      <td>256</td>\n",
       "      <td>35</td>\n",
       "      <td>0</td>\n",
       "      <td>Multi-channeled</td>\n",
       "    </tr>\n",
       "    <tr>\n",
       "      <th>1</th>\n",
       "      <td>68442</td>\n",
       "      <td>80</td>\n",
       "      <td>193</td>\n",
       "      <td>31</td>\n",
       "      <td>1</td>\n",
       "      <td>Data warehouse</td>\n",
       "    </tr>\n",
       "    <tr>\n",
       "      <th>2</th>\n",
       "      <td>59786</td>\n",
       "      <td>69</td>\n",
       "      <td>236</td>\n",
       "      <td>26</td>\n",
       "      <td>0</td>\n",
       "      <td>Customer-focused</td>\n",
       "    </tr>\n",
       "    <tr>\n",
       "      <th>3</th>\n",
       "      <td>54806</td>\n",
       "      <td>74</td>\n",
       "      <td>245</td>\n",
       "      <td>29</td>\n",
       "      <td>1</td>\n",
       "      <td>Triple-buffered</td>\n",
       "    </tr>\n",
       "    <tr>\n",
       "      <th>4</th>\n",
       "      <td>73890</td>\n",
       "      <td>68</td>\n",
       "      <td>225</td>\n",
       "      <td>35</td>\n",
       "      <td>0</td>\n",
       "      <td>Triple-buffered</td>\n",
       "    </tr>\n",
       "  </tbody>\n",
       "</table>\n",
       "</div>"
      ],
      "text/plain": [
       "   vm_count  avg_daily_time  avg_url_count  onboarded_age  trial_customer  \\\n",
       "0     61834              68            256             35               0   \n",
       "1     68442              80            193             31               1   \n",
       "2     59786              69            236             26               0   \n",
       "3     54806              74            245             29               1   \n",
       "4     73890              68            225             35               0   \n",
       "\n",
       "     most_hit_topic  \n",
       "0   Multi-channeled  \n",
       "1    Data warehouse  \n",
       "2  Customer-focused  \n",
       "3   Triple-buffered  \n",
       "4   Triple-buffered  "
      ]
     },
     "execution_count": 63,
     "metadata": {},
     "output_type": "execute_result"
    }
   ],
   "source": [
    "numerical_data_df = customer_data[['vm_count','avg_daily_time','avg_url_count','onboarded_age','trial_customer','most_hit_topic']]\n",
    "numerical_data_df.head()\n",
    "#sns.countplot(x = 'most_hit_topic', data = customer_data, palette= 'viridis')\n"
   ]
  },
  {
   "cell_type": "code",
   "execution_count": 64,
   "metadata": {},
   "outputs": [
    {
     "data": {
      "text/plain": [
       "Text(0, 0.5, 'Top Hit URLS')"
      ]
     },
     "execution_count": 64,
     "metadata": {},
     "output_type": "execute_result"
    },
    {
     "data": {
      "image/png": "[encoded data removed]",
      "text/plain": [
       "<Figure size 432x288 with 1 Axes>"
      ]
     },
     "metadata": {},
     "output_type": "display_data"
    }
   ],
   "source": [
    "# Count plot for Most hit Topics\n",
    "\n",
    "\n",
    "a = sns.countplot(y = 'most_hit_topic' ,data = customer_data)\n",
    "sns.set(rc={'figure.figsize':(12,10)})\n",
    "sns.set(font_scale = 2)\n",
    "plt.rcParams[\"axes.labelsize\"] = 30\n",
    "plt.xlabel('Frequency')\n",
    "plt.ylabel('Top Hit URLS')\n"
   ]
  },
  {
   "cell_type": "code",
   "execution_count": 65,
   "metadata": {},
   "outputs": [
    {
     "data": {
      "text/plain": [
       "Data warehouse        96\n",
       "Multi-channeled       81\n",
       "Customer-focused      72\n",
       "Triple-buffered       70\n",
       "Business-focused      60\n",
       "Configurable          60\n",
       "Object-based          57\n",
       "User-friendly         56\n",
       "Support               53\n",
       "Global intranet       48\n",
       "Robust utilization    40\n",
       "HR encoding           40\n",
       "24/7 Middleware       39\n",
       "De-engineered         38\n",
       "Reverse-engineered    38\n",
       "open system           38\n",
       "GU Interface          37\n",
       "Decentralized         31\n",
       "Cross-platform        26\n",
       "5th Gen               20\n",
       "Name: most_hit_topic, dtype: int64"
      ]
     },
     "execution_count": 65,
     "metadata": {},
     "output_type": "execute_result"
    }
   ],
   "source": [
    "customer_data['most_hit_topic'].value_counts()"
   ]
  },
  {
   "cell_type": "code",
   "execution_count": 66,
   "metadata": {},
   "outputs": [
    {
     "data": {
      "text/plain": [
       "79485"
      ]
     },
     "execution_count": 66,
     "metadata": {},
     "output_type": "execute_result"
    }
   ],
   "source": [
    "customer_data['vm_count'].max()"
   ]
  },
  {
   "cell_type": "code",
   "execution_count": 67,
   "metadata": {
    "collapsed": true
   },
   "outputs": [],
   "source": [
    "from sklearn.model_selection import train_test_split\n"
   ]
  },
  {
   "cell_type": "code",
   "execution_count": 68,
   "metadata": {
    "collapsed": true
   },
   "outputs": [],
   "source": [
    "X = customer_data[['avg_daily_time', 'onboarded_age', 'vm_count', 'avg_url_count']]\n",
    "y = customer_data['potential_buyer']\n",
    "\n",
    "X_train, X_test, y_train, y_test = train_test_split( X, y, test_size=0.3, random_state=42)"
   ]
  },
  {
   "cell_type": "code",
   "execution_count": 69,
   "metadata": {
    "collapsed": true
   },
   "outputs": [],
   "source": [
    "from sklearn.linear_model import LogisticRegression"
   ]
  },
  {
   "cell_type": "code",
   "execution_count": 72,
   "metadata": {},
   "outputs": [
    {
     "data": {
      "text/plain": [
       "LogisticRegression(C=1.0, class_weight=None, dual=False, fit_intercept=True,\n",
       "          intercept_scaling=1, max_iter=100, multi_class='ovr', n_jobs=1,\n",
       "          penalty='l2', random_state=None, solver='liblinear', tol=0.0001,\n",
       "          verbose=0, warm_start=False)"
      ]
     },
     "execution_count": 72,
     "metadata": {},
     "output_type": "execute_result"
    }
   ],
   "source": [
    "model = LogisticRegression()\n",
    "model.fit(X_train,y_train)"
   ]
  },
  {
   "cell_type": "code",
   "execution_count": 73,
   "metadata": {
    "collapsed": true
   },
   "outputs": [],
   "source": [
    "predictions = model.predict(X_test)"
   ]
  },
  {
   "cell_type": "code",
   "execution_count": 75,
   "metadata": {},
   "outputs": [
    {
     "name": "stdout",
     "output_type": "stream",
     "text": [
      "             precision    recall  f1-score   support\n",
      "\n",
      "          0       0.84      0.97      0.90       146\n",
      "          1       0.96      0.83      0.89       154\n",
      "\n",
      "avg / total       0.90      0.90      0.90       300\n",
      "\n"
     ]
    }
   ],
   "source": [
    "from sklearn.metrics import classification_report,confusion_matrix\n",
    "print(classification_report(y_test,predictions))\n"
   ]
  },
  {
   "cell_type": "code",
   "execution_count": 76,
   "metadata": {},
   "outputs": [
    {
     "name": "stdout",
     "output_type": "stream",
     "text": [
      "Lets print the confusion matrix\n",
      "[[141   5]\n",
      " [ 26 128]]\n"
     ]
    }
   ],
   "source": [
    "print(\"Lets print the confusion matrix\")\n",
    "print(confusion_matrix(y_test,predictions))"
   ]
  },
  {
   "cell_type": "code",
   "execution_count": 86,
   "metadata": {},
   "outputs": [
    {
     "name": "stdout",
     "output_type": "stream",
     "text": [
      "MSE: 0.10333333333333333, R2: 0.8966666666666666\n"
     ]
    }
   ],
   "source": [
    "#Lets calculate MSE and R2\n",
    "from sklearn.metrics import mean_squared_error\n",
    "MSE = mean_squared_error(y_test, predictions)\n",
    "r2 = model.score(X_test, y_test)\n",
    "### END SOLUTION\n",
    "\n",
    "print(f\"MSE: {MSE}, R2: {r2}\")"
   ]
  },
  {
   "cell_type": "code",
   "execution_count": 77,
   "metadata": {
    "collapsed": true
   },
   "outputs": [],
   "source": [
    "from collections import defaultdict\n",
    "def report2dict(cr):\n",
    "    # Parse rows\n",
    "    tmp = list()\n",
    "    for row in cr.split(\"\\n\"):\n",
    "        parsed_row = [x for x in row.split(\"  \") if len(x) > 0]\n",
    "        if len(parsed_row) > 0:\n",
    "            tmp.append(parsed_row)\n",
    "    \n",
    "    # Store in dictionary\n",
    "    measures = tmp[0]\n",
    "\n",
    "    D_class_data = defaultdict(dict)\n",
    "    for row in tmp[1:]:\n",
    "        class_label = row[0]\n",
    "        for j, m in enumerate(measures):\n",
    "            D_class_data[class_label][m.strip()] = float(row[j + 1].strip())\n",
    "    return D_class_data"
   ]
  },
  {
   "cell_type": "code",
   "execution_count": 78,
   "metadata": {},
   "outputs": [
    {
     "data": {
      "text/plain": [
       "defaultdict(dict,\n",
       "            {'0': {'precision': 0.84,\n",
       "              'recall': 0.97,\n",
       "              'f1-score': 0.9,\n",
       "              'support': 146.0},\n",
       "             '1': {'precision': 0.96,\n",
       "              'recall': 0.83,\n",
       "              'f1-score': 0.89,\n",
       "              'support': 154.0},\n",
       "             'avg / total': {'precision': 0.9,\n",
       "              'recall': 0.9,\n",
       "              'f1-score': 0.9,\n",
       "              'support': 300.0}})"
      ]
     },
     "execution_count": 78,
     "metadata": {},
     "output_type": "execute_result"
    }
   ],
   "source": [
    "dictA = report2dict(classification_report(y_test,predictions))\n",
    "df_report  = pd.DataFrame(dictA).T\n",
    "dictA"
   ]
  },
  {
   "cell_type": "code",
   "execution_count": 79,
   "metadata": {},
   "outputs": [
    {
     "data": {
      "text/html": [
       "<div>\n",
       "<style scoped>\n",
       "    .dataframe tbody tr th:only-of-type {\n",
       "        vertical-align: middle;\n",
       "    }\n",
       "\n",
       "    .dataframe tbody tr th {\n",
       "        vertical-align: top;\n",
       "    }\n",
       "\n",
       "    .dataframe thead th {\n",
       "        text-align: right;\n",
       "    }\n",
       "</style>\n",
       "<table border=\"1\" class=\"dataframe\">\n",
       "  <thead>\n",
       "    <tr style=\"text-align: right;\">\n",
       "      <th></th>\n",
       "      <th>f1-score</th>\n",
       "      <th>precision</th>\n",
       "      <th>recall</th>\n",
       "      <th>support</th>\n",
       "    </tr>\n",
       "  </thead>\n",
       "  <tbody>\n",
       "    <tr>\n",
       "      <th>0</th>\n",
       "      <td>0.90</td>\n",
       "      <td>0.84</td>\n",
       "      <td>0.97</td>\n",
       "      <td>146.0</td>\n",
       "    </tr>\n",
       "    <tr>\n",
       "      <th>1</th>\n",
       "      <td>0.89</td>\n",
       "      <td>0.96</td>\n",
       "      <td>0.83</td>\n",
       "      <td>154.0</td>\n",
       "    </tr>\n",
       "    <tr>\n",
       "      <th>avg / total</th>\n",
       "      <td>0.90</td>\n",
       "      <td>0.90</td>\n",
       "      <td>0.90</td>\n",
       "      <td>300.0</td>\n",
       "    </tr>\n",
       "  </tbody>\n",
       "</table>\n",
       "</div>"
      ],
      "text/plain": [
       "             f1-score  precision  recall  support\n",
       "0                0.90       0.84    0.97    146.0\n",
       "1                0.89       0.96    0.83    154.0\n",
       "avg / total      0.90       0.90    0.90    300.0"
      ]
     },
     "execution_count": 79,
     "metadata": {},
     "output_type": "execute_result"
    }
   ],
   "source": [
    "df_report  = pd.DataFrame(dictA).T\n",
    "\n",
    "df_report"
   ]
  },
  {
   "cell_type": "code",
   "execution_count": 80,
   "metadata": {},
   "outputs": [
    {
     "data": {
      "text/html": [
       "<div>\n",
       "<style scoped>\n",
       "    .dataframe tbody tr th:only-of-type {\n",
       "        vertical-align: middle;\n",
       "    }\n",
       "\n",
       "    .dataframe tbody tr th {\n",
       "        vertical-align: top;\n",
       "    }\n",
       "\n",
       "    .dataframe thead th {\n",
       "        text-align: right;\n",
       "    }\n",
       "</style>\n",
       "<table border=\"1\" class=\"dataframe\">\n",
       "  <thead>\n",
       "    <tr style=\"text-align: right;\">\n",
       "      <th></th>\n",
       "      <th>Prediction</th>\n",
       "      <th>Actual</th>\n",
       "    </tr>\n",
       "  </thead>\n",
       "  <tbody>\n",
       "    <tr>\n",
       "      <th>521</th>\n",
       "      <td>0</td>\n",
       "      <td>1</td>\n",
       "    </tr>\n",
       "    <tr>\n",
       "      <th>737</th>\n",
       "      <td>1</td>\n",
       "      <td>1</td>\n",
       "    </tr>\n",
       "    <tr>\n",
       "      <th>740</th>\n",
       "      <td>1</td>\n",
       "      <td>1</td>\n",
       "    </tr>\n",
       "    <tr>\n",
       "      <th>660</th>\n",
       "      <td>1</td>\n",
       "      <td>1</td>\n",
       "    </tr>\n",
       "    <tr>\n",
       "      <th>411</th>\n",
       "      <td>0</td>\n",
       "      <td>0</td>\n",
       "    </tr>\n",
       "  </tbody>\n",
       "</table>\n",
       "</div>"
      ],
      "text/plain": [
       "     Prediction  Actual\n",
       "521           0       1\n",
       "737           1       1\n",
       "740           1       1\n",
       "660           1       1\n",
       "411           0       0"
      ]
     },
     "execution_count": 80,
     "metadata": {},
     "output_type": "execute_result"
    }
   ],
   "source": [
    "\n",
    "df_results =pd.DataFrame({\"Prediction\": predictions, \"Actual\": y_test})\n",
    "df_results.head()"
   ]
  },
  {
   "cell_type": "code",
   "execution_count": 81,
   "metadata": {
    "collapsed": true
   },
   "outputs": [],
   "source": [
    "# where model values are not macthing \n",
    "df_nonMatch=df_results[df_results[\"Prediction\"]!= df_results[\"Actual\"]]"
   ]
  },
  {
   "cell_type": "code",
   "execution_count": 82,
   "metadata": {},
   "outputs": [
    {
     "data": {
      "text/plain": [
       "(31, 2)"
      ]
     },
     "execution_count": 82,
     "metadata": {},
     "output_type": "execute_result"
    }
   ],
   "source": [
    "df_nonMatch.shape"
   ]
  },
  {
   "cell_type": "code",
   "execution_count": 83,
   "metadata": {},
   "outputs": [
    {
     "data": {
      "text/html": [
       "<div>\n",
       "<style scoped>\n",
       "    .dataframe tbody tr th:only-of-type {\n",
       "        vertical-align: middle;\n",
       "    }\n",
       "\n",
       "    .dataframe tbody tr th {\n",
       "        vertical-align: top;\n",
       "    }\n",
       "\n",
       "    .dataframe thead th {\n",
       "        text-align: right;\n",
       "    }\n",
       "</style>\n",
       "<table border=\"1\" class=\"dataframe\">\n",
       "  <thead>\n",
       "    <tr style=\"text-align: right;\">\n",
       "      <th></th>\n",
       "      <th>Prediction</th>\n",
       "      <th>Actual</th>\n",
       "    </tr>\n",
       "  </thead>\n",
       "  <tbody>\n",
       "    <tr>\n",
       "      <th>521</th>\n",
       "      <td>0</td>\n",
       "      <td>1</td>\n",
       "    </tr>\n",
       "    <tr>\n",
       "      <th>139</th>\n",
       "      <td>1</td>\n",
       "      <td>0</td>\n",
       "    </tr>\n",
       "    <tr>\n",
       "      <th>584</th>\n",
       "      <td>0</td>\n",
       "      <td>1</td>\n",
       "    </tr>\n",
       "    <tr>\n",
       "      <th>312</th>\n",
       "      <td>0</td>\n",
       "      <td>1</td>\n",
       "    </tr>\n",
       "    <tr>\n",
       "      <th>590</th>\n",
       "      <td>0</td>\n",
       "      <td>1</td>\n",
       "    </tr>\n",
       "    <tr>\n",
       "      <th>289</th>\n",
       "      <td>0</td>\n",
       "      <td>1</td>\n",
       "    </tr>\n",
       "    <tr>\n",
       "      <th>589</th>\n",
       "      <td>0</td>\n",
       "      <td>1</td>\n",
       "    </tr>\n",
       "    <tr>\n",
       "      <th>451</th>\n",
       "      <td>0</td>\n",
       "      <td>1</td>\n",
       "    </tr>\n",
       "    <tr>\n",
       "      <th>787</th>\n",
       "      <td>0</td>\n",
       "      <td>1</td>\n",
       "    </tr>\n",
       "    <tr>\n",
       "      <th>432</th>\n",
       "      <td>0</td>\n",
       "      <td>1</td>\n",
       "    </tr>\n",
       "    <tr>\n",
       "      <th>995</th>\n",
       "      <td>0</td>\n",
       "      <td>1</td>\n",
       "    </tr>\n",
       "    <tr>\n",
       "      <th>215</th>\n",
       "      <td>0</td>\n",
       "      <td>1</td>\n",
       "    </tr>\n",
       "    <tr>\n",
       "      <th>247</th>\n",
       "      <td>0</td>\n",
       "      <td>1</td>\n",
       "    </tr>\n",
       "    <tr>\n",
       "      <th>281</th>\n",
       "      <td>0</td>\n",
       "      <td>1</td>\n",
       "    </tr>\n",
       "    <tr>\n",
       "      <th>822</th>\n",
       "      <td>0</td>\n",
       "      <td>1</td>\n",
       "    </tr>\n",
       "    <tr>\n",
       "      <th>668</th>\n",
       "      <td>0</td>\n",
       "      <td>1</td>\n",
       "    </tr>\n",
       "    <tr>\n",
       "      <th>479</th>\n",
       "      <td>0</td>\n",
       "      <td>1</td>\n",
       "    </tr>\n",
       "    <tr>\n",
       "      <th>486</th>\n",
       "      <td>1</td>\n",
       "      <td>0</td>\n",
       "    </tr>\n",
       "    <tr>\n",
       "      <th>749</th>\n",
       "      <td>1</td>\n",
       "      <td>0</td>\n",
       "    </tr>\n",
       "    <tr>\n",
       "      <th>948</th>\n",
       "      <td>0</td>\n",
       "      <td>1</td>\n",
       "    </tr>\n",
       "    <tr>\n",
       "      <th>249</th>\n",
       "      <td>0</td>\n",
       "      <td>1</td>\n",
       "    </tr>\n",
       "    <tr>\n",
       "      <th>305</th>\n",
       "      <td>0</td>\n",
       "      <td>1</td>\n",
       "    </tr>\n",
       "    <tr>\n",
       "      <th>734</th>\n",
       "      <td>0</td>\n",
       "      <td>1</td>\n",
       "    </tr>\n",
       "    <tr>\n",
       "      <th>344</th>\n",
       "      <td>0</td>\n",
       "      <td>1</td>\n",
       "    </tr>\n",
       "    <tr>\n",
       "      <th>994</th>\n",
       "      <td>0</td>\n",
       "      <td>1</td>\n",
       "    </tr>\n",
       "    <tr>\n",
       "      <th>33</th>\n",
       "      <td>0</td>\n",
       "      <td>1</td>\n",
       "    </tr>\n",
       "    <tr>\n",
       "      <th>286</th>\n",
       "      <td>0</td>\n",
       "      <td>1</td>\n",
       "    </tr>\n",
       "    <tr>\n",
       "      <th>266</th>\n",
       "      <td>0</td>\n",
       "      <td>1</td>\n",
       "    </tr>\n",
       "    <tr>\n",
       "      <th>798</th>\n",
       "      <td>1</td>\n",
       "      <td>0</td>\n",
       "    </tr>\n",
       "    <tr>\n",
       "      <th>290</th>\n",
       "      <td>0</td>\n",
       "      <td>1</td>\n",
       "    </tr>\n",
       "    <tr>\n",
       "      <th>464</th>\n",
       "      <td>1</td>\n",
       "      <td>0</td>\n",
       "    </tr>\n",
       "  </tbody>\n",
       "</table>\n",
       "</div>"
      ],
      "text/plain": [
       "     Prediction  Actual\n",
       "521           0       1\n",
       "139           1       0\n",
       "584           0       1\n",
       "312           0       1\n",
       "590           0       1\n",
       "289           0       1\n",
       "589           0       1\n",
       "451           0       1\n",
       "787           0       1\n",
       "432           0       1\n",
       "995           0       1\n",
       "215           0       1\n",
       "247           0       1\n",
       "281           0       1\n",
       "822           0       1\n",
       "668           0       1\n",
       "479           0       1\n",
       "486           1       0\n",
       "749           1       0\n",
       "948           0       1\n",
       "249           0       1\n",
       "305           0       1\n",
       "734           0       1\n",
       "344           0       1\n",
       "994           0       1\n",
       "33            0       1\n",
       "286           0       1\n",
       "266           0       1\n",
       "798           1       0\n",
       "290           0       1\n",
       "464           1       0"
      ]
     },
     "execution_count": 83,
     "metadata": {},
     "output_type": "execute_result"
    }
   ],
   "source": [
    "df_nonMatch"
   ]
  },
  {
   "cell_type": "code",
   "execution_count": 39,
   "metadata": {},
   "outputs": [
    {
     "name": "stdout",
     "output_type": "stream",
     "text": [
      "predicting a single vlaue \n",
      "[0]\n"
     ]
    }
   ],
   "source": [
    "#Nove predicting using unknown data\n",
    "print(\"predicting a single vlaue \")\n",
    "\n",
    "print (model.predict([[83.42,25,49851,183.42]]))"
   ]
  },
  {
   "cell_type": "code",
   "execution_count": 41,
   "metadata": {
    "collapsed": true
   },
   "outputs": [],
   "source": [
    "#now lets save the model \n",
    "filename = 'finalized_model.sav'\n",
    "pickle.dump(model, open(filename, 'wb'))"
   ]
  },
  {
   "cell_type": "code",
   "execution_count": 42,
   "metadata": {},
   "outputs": [
    {
     "name": "stdout",
     "output_type": "stream",
     "text": [
      "[0]\n"
     ]
    }
   ],
   "source": [
    "# Now lest Load the saved model and predict from there \n",
    "\n",
    "loaded_model = pickle.load(open(filename, 'rb'))\n",
    "\n",
    "\n",
    "print (loaded_model.predict([[83.42,25,49851,183.42]]))"
   ]
  },
  {
   "cell_type": "code",
   "execution_count": 43,
   "metadata": {},
   "outputs": [
    {
     "name": "stdout",
     "output_type": "stream",
     "text": [
      "   Prediction\n",
      "0           0\n"
     ]
    },
    {
     "data": {
      "text/plain": [
       "{'Prediction': {0: 0}}"
      ]
     },
     "execution_count": 43,
     "metadata": {},
     "output_type": "execute_result"
    }
   ],
   "source": [
    "predictions  = loaded_model.predict([[83.42,25,49851,183.42]])\n",
    "df_results =pd.DataFrame({\"Prediction\": predictions})\n",
    "print(df_results)\n",
    "data = df_results.to_dict()\n",
    "data"
   ]
  }
 ],
 "metadata": {
  "kernelspec": {
   "display_name": "Python 3",
   "language": "python",
   "name": "python3"
  },
  "language_info": {
   "codemirror_mode": {
    "name": "ipython",
    "version": 3
   },
   "file_extension": ".py",
   "mimetype": "text/x-python",
   "name": "python",
   "nbconvert_exporter": "python",
   "pygments_lexer": "ipython3",
   "version": "3.6.3"
  }
 },
 "nbformat": 4,
 "nbformat_minor": 2
}
